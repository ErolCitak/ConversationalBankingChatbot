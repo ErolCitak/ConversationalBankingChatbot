{
 "cells": [
  {
   "cell_type": "code",
   "execution_count": 1,
   "id": "0e6475e2",
   "metadata": {},
   "outputs": [
    {
     "name": "stderr",
     "output_type": "stream",
     "text": [
      "c:\\Users\\citak\\anaconda3\\envs\\pytorch\\lib\\site-packages\\sentence_transformers\\cross_encoder\\CrossEncoder.py:11: TqdmExperimentalWarning: Using `tqdm.autonotebook.tqdm` in notebook mode. Use `tqdm.tqdm` instead to force console mode (e.g. in jupyter console)\n",
      "  from tqdm.autonotebook import tqdm, trange\n"
     ]
    }
   ],
   "source": [
    "import os\n",
    "import numpy as np\n",
    "import pandas as pd\n",
    "from tqdm import tqdm\n",
    "\n",
    "from sentence_transformers import SentenceTransformer, util"
   ]
  },
  {
   "cell_type": "code",
   "execution_count": 2,
   "id": "4a4ae30a",
   "metadata": {},
   "outputs": [
    {
     "data": {
      "text/html": [
       "<div>\n",
       "<style scoped>\n",
       "    .dataframe tbody tr th:only-of-type {\n",
       "        vertical-align: middle;\n",
       "    }\n",
       "\n",
       "    .dataframe tbody tr th {\n",
       "        vertical-align: top;\n",
       "    }\n",
       "\n",
       "    .dataframe thead th {\n",
       "        text-align: right;\n",
       "    }\n",
       "</style>\n",
       "<table border=\"1\" class=\"dataframe\">\n",
       "  <thead>\n",
       "    <tr style=\"text-align: right;\">\n",
       "      <th></th>\n",
       "      <th>Questions</th>\n",
       "    </tr>\n",
       "  </thead>\n",
       "  <tbody>\n",
       "    <tr>\n",
       "      <th>0</th>\n",
       "      <td>What is the maximum deposit amount a Recurrin...</td>\n",
       "    </tr>\n",
       "    <tr>\n",
       "      <th>1</th>\n",
       "      <td>How can I prematurely liquidate my Fixed Depo...</td>\n",
       "    </tr>\n",
       "    <tr>\n",
       "      <th>2</th>\n",
       "      <td>What is IVR Password and how does it work</td>\n",
       "    </tr>\n",
       "    <tr>\n",
       "      <th>3</th>\n",
       "      <td>What are the available plans under the Critic...</td>\n",
       "    </tr>\n",
       "    <tr>\n",
       "      <th>4</th>\n",
       "      <td>How much is the Service Tax on Cross Currency...</td>\n",
       "    </tr>\n",
       "  </tbody>\n",
       "</table>\n",
       "</div>"
      ],
      "text/plain": [
       "                                           Questions\n",
       "0   What is the maximum deposit amount a Recurrin...\n",
       "1   How can I prematurely liquidate my Fixed Depo...\n",
       "2          What is IVR Password and how does it work\n",
       "3   What are the available plans under the Critic...\n",
       "4   How much is the Service Tax on Cross Currency..."
      ]
     },
     "execution_count": 2,
     "metadata": {},
     "output_type": "execute_result"
    }
   ],
   "source": [
    "csv_path = \"test_questions.csv\"\n",
    "df_original = pd.read_csv(csv_path)\n",
    "\n",
    "questions_orig = df_original[\"Questions\"].tolist()\n",
    "\n",
    "df_original.head()"
   ]
  },
  {
   "cell_type": "code",
   "execution_count": 3,
   "id": "5af67c33",
   "metadata": {},
   "outputs": [
    {
     "data": {
      "text/plain": [
       "249"
      ]
     },
     "execution_count": 3,
     "metadata": {},
     "output_type": "execute_result"
    }
   ],
   "source": [
    "len(questions_orig)"
   ]
  },
  {
   "cell_type": "code",
   "execution_count": 4,
   "id": "955a57b2",
   "metadata": {},
   "outputs": [],
   "source": [
    "variations_1_path = \"test_questions_variations.txt\"\n",
    "\n",
    "df_variations_1_oriq = []\n",
    "df_variations_1_var = []\n",
    "\n",
    "with open(variations_1_path, \"r\") as file:\n",
    "    df_variations_1 = file.readlines()\n",
    "\n",
    "    for line in df_variations_1:\n",
    "        orig_q = line.split(\"→\")[0].replace(\"\\\"\",'').strip()\n",
    "        var_q = line.split(\"→\")[1].replace(\"\\\"\",'').strip()\n",
    "\n",
    "        df_variations_1_oriq.append(orig_q)\n",
    "        df_variations_1_var.append(var_q)"
   ]
  },
  {
   "cell_type": "code",
   "execution_count": 5,
   "id": "2ba683ff",
   "metadata": {},
   "outputs": [
    {
     "data": {
      "text/plain": [
       "249"
      ]
     },
     "execution_count": 5,
     "metadata": {},
     "output_type": "execute_result"
    }
   ],
   "source": [
    "len(df_variations_1)"
   ]
  },
  {
   "cell_type": "code",
   "execution_count": 6,
   "id": "60843387",
   "metadata": {},
   "outputs": [
    {
     "data": {
      "text/plain": [
       "(249, 249)"
      ]
     },
     "execution_count": 6,
     "metadata": {},
     "output_type": "execute_result"
    }
   ],
   "source": [
    "len(df_variations_1_oriq), len(df_variations_1_var)"
   ]
  },
  {
   "cell_type": "markdown",
   "id": "0f1e292d",
   "metadata": {},
   "source": [
    "### Now to be ensure, try to compare each original and variation question"
   ]
  },
  {
   "cell_type": "code",
   "execution_count": 7,
   "id": "9b768097",
   "metadata": {},
   "outputs": [],
   "source": [
    "# Load a pre-trained sentence transformer model\n",
    "model = SentenceTransformer('all-MiniLM-L6-v2')"
   ]
  },
  {
   "cell_type": "code",
   "execution_count": 8,
   "id": "8d61645a",
   "metadata": {},
   "outputs": [],
   "source": [
    "similarity_matrix = np.ones(len(questions_orig))*-1"
   ]
  },
  {
   "cell_type": "code",
   "execution_count": 9,
   "id": "91c066a7",
   "metadata": {},
   "outputs": [
    {
     "data": {
      "text/plain": [
       "(249, 249)"
      ]
     },
     "execution_count": 9,
     "metadata": {},
     "output_type": "execute_result"
    }
   ],
   "source": [
    "len(questions_orig), len(df_variations_1_var)"
   ]
  },
  {
   "cell_type": "code",
   "execution_count": 10,
   "id": "a7d3b8f8",
   "metadata": {},
   "outputs": [
    {
     "name": "stderr",
     "output_type": "stream",
     "text": [
      "0it [00:00, ?it/s]c:\\Users\\citak\\anaconda3\\envs\\pytorch\\lib\\site-packages\\transformers\\models\\bert\\modeling_bert.py:440: UserWarning: 1Torch was not compiled with flash attention. (Triggered internally at C:\\cb\\pytorch_1000000000000\\work\\aten\\src\\ATen\\native\\transformers\\cuda\\sdp_utils.cpp:455.)\n",
      "  attn_output = torch.nn.functional.scaled_dot_product_attention(\n",
      "249it [00:04, 50.84it/s]\n"
     ]
    }
   ],
   "source": [
    "for idx, (orig_q, var_q) in tqdm(enumerate(zip(questions_orig, df_variations_1_var))):\n",
    "    original_question = orig_q.replace(\"\\'\", '').strip()\n",
    "    \n",
    "    # compare the questions\n",
    "    embedding1 = model.encode(original_question, convert_to_tensor=True)\n",
    "    embedding2 = model.encode(var_q, convert_to_tensor=True)\n",
    "\n",
    "    # Compute cosine similarity\n",
    "    similarity = util.pytorch_cos_sim(embedding1, embedding2)\n",
    "    similarity = similarity.detach().cpu().numpy()[0,0]\n",
    "\n",
    "    similarity_matrix[idx] = similarity"
   ]
  },
  {
   "cell_type": "code",
   "execution_count": 11,
   "id": "d6dcc586",
   "metadata": {},
   "outputs": [
    {
     "name": "stdout",
     "output_type": "stream",
     "text": [
      "IDX: 27\n",
      " What are the advantages of investing in SIP\n",
      "What benefits do I gain by choosing a Systematic Investment Plan over lump-sum investments?\n",
      "0.43533602356910706\n",
      "--------------------\n",
      "IDX: 69\n",
      " When do I become liable for TDS\n",
      "Under what circumstances does my account become subject to Tax Deduction at Source?\n",
      "0.24544572830200195\n",
      "--------------------\n",
      "IDX: 78\n",
      " Cab sum assured be extended\n",
      "Is it possible to increase the sum assured amount after policy issuance?\n",
      "0.47079604864120483\n",
      "--------------------\n",
      "IDX: 89\n",
      " What is the policy term of the plan\n",
      "For what duration does this insurance plan provide coverage?\n",
      "0.4790274500846863\n",
      "--------------------\n",
      "IDX: 96\n",
      " What will I be getting on maturity\n",
      "What benefits or amount will I receive when my policy reaches its maturity date?\n",
      "0.4833115339279175\n",
      "--------------------\n",
      "IDX: 190\n",
      " Is there any Surrender benefit under this product\n",
      "Does this insurance plan offer any value if I decide to terminate it early?\n",
      "0.23887720704078674\n",
      "--------------------\n",
      "IDX: 195\n",
      " What are the tenure options available\n",
      "What different duration periods can I choose from?\n",
      "0.27228179574012756\n",
      "--------------------\n"
     ]
    }
   ],
   "source": [
    "for idx in range(len(similarity_matrix)):\n",
    "    if similarity_matrix[idx] < 0.5:\n",
    "        print(f\"IDX: {idx}\")\n",
    "        try:\n",
    "            print(questions_orig[idx])\n",
    "            print(df_variations_1_var[idx])\n",
    "            print(similarity_matrix[idx])\n",
    "            print(\"-\"*20)\n",
    "        except:\n",
    "            print(\"Exception\")\n",
    "            print(\"-\"*20)"
   ]
  }
 ],
 "metadata": {
  "kernelspec": {
   "display_name": "pytorch",
   "language": "python",
   "name": "python3"
  },
  "language_info": {
   "codemirror_mode": {
    "name": "ipython",
    "version": 3
   },
   "file_extension": ".py",
   "mimetype": "text/x-python",
   "name": "python",
   "nbconvert_exporter": "python",
   "pygments_lexer": "ipython3",
   "version": "3.8.19"
  }
 },
 "nbformat": 4,
 "nbformat_minor": 5
}
