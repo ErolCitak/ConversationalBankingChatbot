{
 "cells": [
  {
   "cell_type": "code",
   "execution_count": 13,
   "id": "104874ba",
   "metadata": {},
   "outputs": [],
   "source": [
    "import os\n",
    "import time\n",
    "import numpy as np\n",
    "import pandas as pd\n",
    "\n",
    "from matplotlib import pyplot as plt\n",
    "\n",
    "import config\n",
    "\n",
    "from data import prepare_data\n",
    "from embeddings import embedder\n",
    "from llm import smollm_wrapper\n",
    "from chains import rag_chain"
   ]
  },
  {
   "cell_type": "code",
   "execution_count": 14,
   "id": "248561c3",
   "metadata": {},
   "outputs": [],
   "source": [
    "import importlib\n",
    "importlib.reload(config)\n",
    "importlib.reload(prepare_data)\n",
    "importlib.reload(embedder)\n",
    "importlib.reload(smollm_wrapper)\n",
    "importlib.reload(rag_chain)\n",
    "\n",
    "import warnings\n",
    "warnings.filterwarnings('ignore')"
   ]
  },
  {
   "cell_type": "code",
   "execution_count": null,
   "id": "97f0118a",
   "metadata": {},
   "outputs": [
    {
     "name": "stdout",
     "output_type": "stream",
     "text": [
      "Initializing Dataset with train set\n",
      "--------------------\n",
      "Dataset is preprocessing\n",
      "--------------------\n",
      "Dataset preprocessing is done\n",
      "--------------------\n",
      "Initializing Embedding Model\n",
      "--------------------\n"
     ]
    }
   ],
   "source": [
    "## Initialization of sub-components\n",
    "\n",
    "## Dataset Loader\n",
    "dataloader = prepare_data.DataLoader(config.DATASET_NAME)\n",
    "doc = dataloader.load_documents(split='train')\n",
    "\n",
    "## Embedder Loader\n",
    "embedder_name = config.EMBED_MODEL\n",
    "embedder = embedder.Embedder(embedder_name)\n",
    "vector_store = embedder.build_vectorstore(doc)\n",
    "\n",
    "## LLM Loader\n",
    "base_model_id = config.BASE_MODEL_ID\n",
    "our_pretrained_lm_path = config.MODEL_ID\n",
    "llm_wrapper = smollm_wrapper.SmolLLMWrapper(base_model_id, our_pretrained_lm_path)\n",
    "\n",
    "## RAG Chain Loader\n",
    "rag_chain = rag_chain.RAGChainBuilder(llm_wrapper.llm, vector_store.as_retriever())\n",
    "qa_chain = rag_chain.build_chain()"
   ]
  },
  {
   "cell_type": "code",
   "execution_count": null,
   "id": "cfd799fb",
   "metadata": {},
   "outputs": [
    {
     "name": "stdout",
     "output_type": "stream",
     "text": [
      "Initializing LLM Model\n",
      "--------------------\n"
     ]
    }
   ],
   "source": []
  },
  {
   "cell_type": "code",
   "execution_count": null,
   "id": "e8cc5f54",
   "metadata": {},
   "outputs": [
    {
     "name": "stdout",
     "output_type": "stream",
     "text": [
      "Initializing Retrieval Chain\n",
      "--------------------\n"
     ]
    }
   ],
   "source": []
  },
  {
   "cell_type": "code",
   "execution_count": null,
   "id": "ed86e9df",
   "metadata": {},
   "outputs": [],
   "source": []
  }
 ],
 "metadata": {
  "kernelspec": {
   "display_name": "pytorch",
   "language": "python",
   "name": "python3"
  },
  "language_info": {
   "codemirror_mode": {
    "name": "ipython",
    "version": 3
   },
   "file_extension": ".py",
   "mimetype": "text/x-python",
   "name": "python",
   "nbconvert_exporter": "python",
   "pygments_lexer": "ipython3",
   "version": "3.8.19"
  }
 },
 "nbformat": 4,
 "nbformat_minor": 5
}
