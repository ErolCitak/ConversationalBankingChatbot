{
 "cells": [
  {
   "cell_type": "code",
   "execution_count": 65,
   "id": "104874ba",
   "metadata": {},
   "outputs": [],
   "source": [
    "import os\n",
    "import re\n",
    "import time\n",
    "import numpy as np\n",
    "import pandas as pd\n",
    "from tqdm import tqdm\n",
    "\n",
    "from matplotlib import pyplot as plt\n",
    "\n",
    "import config\n",
    "import utils\n",
    "\n",
    "from data import prepare_data\n",
    "from embeddings import embedder\n",
    "from llm import smollm_wrapper\n",
    "from llm import smollm_raw_wrapper\n",
    "from chains import rag_chain"
   ]
  },
  {
   "cell_type": "code",
   "execution_count": 61,
   "id": "248561c3",
   "metadata": {},
   "outputs": [],
   "source": [
    "import importlib\n",
    "importlib.reload(config)\n",
    "importlib.reload(prepare_data)\n",
    "importlib.reload(embedder)\n",
    "importlib.reload(smollm_wrapper)\n",
    "importlib.reload(rag_chain)\n",
    "importlib.reload(utils)\n",
    "\n",
    "import warnings\n",
    "warnings.filterwarnings('ignore')"
   ]
  },
  {
   "cell_type": "code",
   "execution_count": 3,
   "id": "97f0118a",
   "metadata": {},
   "outputs": [
    {
     "name": "stdout",
     "output_type": "stream",
     "text": [
      "Initializing Dataset with train set\n",
      "--------------------\n",
      "Dataset is preprocessing\n",
      "--------------------\n",
      "Dataset preprocessing is done\n",
      "--------------------\n",
      "Initializing Dataset with test set\n",
      "--------------------\n",
      "Dataset is preprocessing\n",
      "--------------------\n",
      "Dataset preprocessing is done\n",
      "--------------------\n",
      "Initializing Embedding Model\n",
      "--------------------\n",
      "Initializing LLM Model\n",
      "--------------------\n",
      "Initializing Retrieval Chain\n",
      "--------------------\n"
     ]
    }
   ],
   "source": [
    "## Initialization of sub-components\n",
    "\n",
    "## Dataset Loader\n",
    "dataloader = prepare_data.DataLoader(config.DATASET_NAME)\n",
    "doc = dataloader.load_documents(split='train')\n",
    "\n",
    "dataloader_test = prepare_data.DataLoader(config.DATASET_NAME)\n",
    "doc_test = dataloader_test.load_documents(split='test')\n",
    "\n",
    "## Embedder Loader\n",
    "embedder_name = config.EMBED_MODEL\n",
    "embedder = embedder.Embedder(embedder_name)\n",
    "vector_store = embedder.build_vectorstore(doc)\n",
    "\n",
    "## LLM Loader\n",
    "base_model_id = config.BASE_MODEL_ID\n",
    "our_pretrained_lm_path = config.MODEL_ID\n",
    "llm_wrapper = smollm_wrapper.SmolLLMWrapper(base_model_id, our_pretrained_lm_path)\n",
    "\n",
    "## RAG Chain Loader\n",
    "rag_chain = rag_chain.RAGChainBuilder(llm_wrapper.llm, vector_store.as_retriever(search_kwargs={\"k\": 3}))\n",
    "qa_chain = rag_chain.build_chain()"
   ]
  },
  {
   "cell_type": "code",
   "execution_count": 4,
   "id": "9c6db363",
   "metadata": {},
   "outputs": [
    {
     "name": "stdout",
     "output_type": "stream",
     "text": [
      "page_content='Question: Is there any restriction on withdrawal in rupees of funds held in an EEFC account\n",
      "Answer: No, there is no restriction on withdrawal in rupees of funds held in an EEFC account. However, the amount withdrawn in rupees shall not be eligible for conversion into foreign currency and for re-credit to the account.'\n",
      "page_content='Question: Why should I buy Critical Illness insurance\n",
      "Answer: Critical Illness insurance provides you and your family additional financial security on the diagnosis of a critical illness. The policy provides a lump sum amount which could be used for: Cost of care and treatment Recuperation aid Debts pay off Any lost in income due to a decrease in ability to work View more'\n"
     ]
    }
   ],
   "source": [
    "i = 0\n",
    "print(doc[i])\n",
    "print(doc_test[i])"
   ]
  },
  {
   "cell_type": "code",
   "execution_count": 5,
   "id": "690789f4",
   "metadata": {},
   "outputs": [
    {
     "name": "stdout",
     "output_type": "stream",
     "text": [
      "Question: What are the criterias to get some loan?\n",
      "\n",
      "Context:\n",
      "Question: Whom do I contact in case of ay further queries regarding the loan\n",
      "Answer: You can apply online on the clicking on the below given link, also you can walk into any of our branches located in 11 mentioned locations and our Sales Managers will help you with your need\n",
      "\n",
      "Question: How will HDFC decide my home loan eligibility\n",
      "Answer: HDFC assess the customer's repayment capacity based on income, age, qualifications, number of dependants, spouse's income, assets, liabilities, stability and continuity of occupation, and savings history.\n",
      "\n",
      "Question: Who is eligible for a tractor loan\n",
      "Answer: Whether you are a farmer or not, you can avail HDFC Bank's Tractor loan for agricultural or commercial purposes. If you are a farmer, you must have a minimum of 3 acres of agricultural land. To know about the eligibility criteria in detail, click here.\n",
      "\n",
      "Answer: We offer various types of loans under different categories like Personal Loan, Home Loan, Auto Loan etc., where we provide competitive interest rates depending upon your credit score and financial requirements. Please reach out to us at {{Customer Support Phone Number}} or visit one of our branch offices near you. Our dedicated team will be more than happy to assist you throughout the process.\n",
      "\n",
      "Remember, it's essential to carefully review all terms and conditions before applying as there might be certain fees involved during disbursement. Let me assure you that every effort has been made by HDFC Banks to ensure fair treatment towards borrowers across diverse economic backgrounds.\n",
      "\n",
      "If you require assistance understanding specific details related to your loan application or if you encounter any difficulties along the way, feel free to ask!\n",
      "        \n"
     ]
    }
   ],
   "source": [
    "## Make some tests with RAG Chain\n",
    "query = \"What are the criterias to get some loan?\"\n",
    "response = qa_chain.run(query)\n",
    "print(response)"
   ]
  },
  {
   "cell_type": "markdown",
   "id": "8446da4d",
   "metadata": {},
   "source": [
    "### Only Instruction-Tuned SmolLM2"
   ]
  },
  {
   "cell_type": "code",
   "execution_count": 6,
   "id": "9cf0da6f",
   "metadata": {},
   "outputs": [
    {
     "name": "stdout",
     "output_type": "stream",
     "text": [
      "Initializing LLM Model\n",
      "--------------------\n"
     ]
    }
   ],
   "source": [
    "## LLM Loader\n",
    "base_model_id = config.BASE_MODEL_ID\n",
    "our_pretrained_lm_path = config.MODEL_ID\n",
    "llm_raw_wrapper = smollm_raw_wrapper.SmolLLM_Raw_Wrapper(base_model_id, our_pretrained_lm_path)"
   ]
  },
  {
   "cell_type": "code",
   "execution_count": 7,
   "id": "0c3e24a3",
   "metadata": {},
   "outputs": [
    {
     "name": "stdout",
     "output_type": "stream",
     "text": [
      "### Instruction:\n",
      "        You are an AI banking assistant. Respond to the customer's request in a clear and professional manner.\n",
      "\n",
      "        ### Customer Request:\n",
      "        What are the criterias to get some loan?\n",
      "\n",
      "        ### Response:\n",
      "         I can provide you with information about our loan criteria so that we can assist you better. Here is what your application will need from us:\n",
      "\n",
      "1. Loan amount (minimum): We have different loan options available, such as personal loans or home equity loans. Please specify how much money you're looking for and which type of loan suits your needs best.\n",
      "2. Duration: How long do you plan on taking out the loan? This could be short-term (<6 months) or longer term (>3 years). \n",
      "3. Repayment terms: Are there any repayment plans or interest rates associated with this loan option? If yes, please let me know if it includes fixed payments or variable repayments based on market conditions.\n",
      "4. Credit score/credit history: Our lending process considers factors like creditworthiness when approving applications. Let me check whether your financial profile meets certain requirements before proceeding further.\n",
      "5. Purpose of borrowing: Specify why you want to take up the loan. Is it for education expenses, purchasing a new car, buying property, etc.? Understanding your purpose helps tailor specific loan offers accordingly.\n",
      "6. Documents required: To verify your identity and complete the application smoothly, kindly supply proof of identification documents along with other relevant documentation requested by lenders. These may include ID cards, passport photos, bank statements, tax returns, employment verification letters, and more depending upon each lender's preferences.\n",
      "7. Application deadline: Lastly, make sure to submit your loan application within the specified timeframe mentioned earlier. Late submissions might lead to reconsideration processes or even denial of approval altogether.\n",
      "\n",
      "Please note that these parameters vary slightly among various types of loans offered by us. Feel free to ask any additional questions regarding individual loan details during my time spent assisting you!\n"
     ]
    }
   ],
   "source": [
    "response_raw = llm_raw_wrapper.generate_response(query)\n",
    "print(response_raw)"
   ]
  },
  {
   "cell_type": "markdown",
   "id": "ee007c30",
   "metadata": {},
   "source": [
    "### Evaluation of RAG-based and Only Ins-Tuned SmolLM2 Models on Test Dataset"
   ]
  },
  {
   "cell_type": "code",
   "execution_count": 19,
   "id": "3c288f0e",
   "metadata": {},
   "outputs": [],
   "source": [
    "import evaluate\n",
    "from datasets import Dataset"
   ]
  },
  {
   "cell_type": "code",
   "execution_count": 9,
   "id": "0af0058f",
   "metadata": {},
   "outputs": [
    {
     "name": "stdout",
     "output_type": "stream",
     "text": [
      "# Train Questions: 1411\n",
      "# Test Questions: 353\n",
      "# Test Answers: 353\n",
      "\n"
     ]
    }
   ],
   "source": [
    "# Create the test question-answer pairs\n",
    "train_questions = [doc_entry.page_content.split(\"\\n\")[0].split(\"Question:\")[1] for doc_entry in doc]\n",
    "test_questions = [doc_entry.page_content.split(\"\\n\")[0].split(\"Question:\")[1] for doc_entry in doc_test]\n",
    "test_answers = [doc_entry.page_content.split(\"\\n\")[1].split(\"Answer:\")[1] for doc_entry in doc_test]\n",
    "\n",
    "print(f\"# Train Questions: {len(train_questions)}\\n# Test Questions: {len(test_questions)}\\n# Test Answers: {len(test_answers)}\\n\")"
   ]
  },
  {
   "cell_type": "code",
   "execution_count": 10,
   "id": "4c0aa61a",
   "metadata": {},
   "outputs": [
    {
     "name": "stdout",
     "output_type": "stream",
     "text": [
      "There are 104 questions in both dataset!\n",
      "249 249\n"
     ]
    }
   ],
   "source": [
    "test_questions, test_answers = utils.remove_joint_questions(train_questions, test_questions, test_answers)\n",
    "\n",
    "print(len(test_questions), len(test_answers))"
   ]
  },
  {
   "cell_type": "code",
   "execution_count": 11,
   "id": "324bb1f1",
   "metadata": {},
   "outputs": [
    {
     "name": "stdout",
     "output_type": "stream",
     "text": [
      "There are 249 documents-retrieved pairs\n",
      "--------------------\n",
      "A sample question based retrieval:\n",
      "Question:  What is the maximum deposit amount a Recurring Deposit account can be opened with\n",
      "--------------------\n",
      "Retrieved documents:\n",
      "[Document(page_content='Question: What is the initial deposit amount required to open a Max Current account\\nAnswer: You need an initial deposit of Rs. 5,00,000 to open a Max Current account.'), Document(page_content='Question: How to open a Recurring Deposit\\nAnswer: Recurring Deposits can now be booked through NetBanking. Following are the steps for booking your Recurring Deposit online: Access your NetBanking account with your Customer ID and IPIN (NetBanking Password) Select Open Recurring Deposit option under the Recurring Deposit menu from the Menu bar located on the left hand side of the web page Select the desired values from the Drop-down lists Once complete, click on Continue and Confirm the details entered'), Document(page_content='Question: Is there a monthly or quarterly interest pay-out option\\nAnswer: Interest is paid when the Recurring Deposit account is closed, and on maturity.')]\n",
      "--------------------\n"
     ]
    }
   ],
   "source": [
    "# Retrieve Contexts in Batch\n",
    "# Get top_k contexts for all questions\n",
    "\n",
    "retriever = vector_store.as_retriever(search_kwargs={\"k\": 3})\n",
    "\n",
    "# Get top_k contexts for all questions\n",
    "retrieved_docs_batch = retriever.batch(test_questions)\n",
    "\n",
    "print(f\"There are {len(retrieved_docs_batch)} documents-retrieved pairs\")\n",
    "print(\"-\"*20)\n",
    "\n",
    "print(f\"A sample question based retrieval:\\nQuestion: {test_questions[0]}\")\n",
    "print(\"-\"*20)\n",
    "print(f\"Retrieved documents:\\n{retrieved_docs_batch[0]}\")\n",
    "print(\"-\"*20)"
   ]
  },
  {
   "cell_type": "code",
   "execution_count": null,
   "id": "82ebbe78",
   "metadata": {},
   "outputs": [
    {
     "name": "stderr",
     "output_type": "stream",
     "text": [
      "Setting `pad_token_id` to `eos_token_id`:None for open-end generation.\n"
     ]
    },
    {
     "name": "stdout",
     "output_type": "stream",
     "text": [
      "There are 249 questions in prompt template\n",
      "--------------------\n",
      "A sample prompt for Only Ins-Tuned SmolL2:\n",
      "\n",
      "        ### Instruction:\n",
      "        You are an AI banking assistant. Respond to the customer's request in a clear and professional manner.\n",
      "\n",
      "        ### Customer Request:\n",
      "         What is the maximum deposit amount a Recurring Deposit account can be opened with\n",
      "\n",
      "        ### Response:\n",
      "        \n",
      "--------------------\n",
      "There are 249 generated text from Only Ins-Tuned SmolL2\n",
      "--------------------\n",
      "A sample generated text from Only Ins-Tuned SmolL2:\n",
      "\n",
      "        ### Instruction:\n",
      "        You are an AI banking assistant. Respond to the customer's request in a clear and professional manner.\n",
      "\n",
      "        ### Customer Request:\n",
      "         What is the maximum deposit amount a Recurring Deposit account can be opened with\n",
      "\n",
      "        ### Response:\n",
      "         I can provide you with the maximum amount that you can deposit with your recurring deposit account. To determine the maximum amount, I'll need some additional information. Could you please provide me with your account number or the name of the bank? Once I have that, I'll be able to assist you further in finding the maximum deposit amount for your recurring deposit account.\n",
      "        \n",
      "--------------------\n"
     ]
    }
   ],
   "source": [
    "## Generate Responses with \"Only Inst-Tuned SmolLM2\"\n",
    "prompt_template = \"\"\"\n",
    "        ### Instruction:\n",
    "        You are an AI banking assistant. Respond to the customer's request in a clear and professional manner.\n",
    "\n",
    "        ### Customer Request:\n",
    "        {question}\n",
    "\n",
    "        ### Response:\n",
    "        \"\"\"\n",
    "\n",
    "prompts = [\n",
    "    prompt_template.format(question=q)\n",
    "    for q in test_questions\n",
    "]\n",
    "\n",
    "print(f\"There are {len(prompts)} questions in prompt template\")\n",
    "print(\"-\"*20)\n",
    "print(f\"A sample prompt for Only Ins-Tuned SmolL2:\\n{prompts[0]}\")\n",
    "print(\"-\"*20)\n",
    "\n",
    "\n",
    "# Predict responses\n",
    "inputs = llm_raw_wrapper.base_tokenizer(prompts, return_tensors=\"pt\", padding=True, truncation=True).to(\"cuda\")\n",
    "outputs = llm_raw_wrapper.tuned_model.generate(**inputs, max_new_tokens=512)\n",
    "\n",
    "inst_tuned_model_generated_text = llm_raw_wrapper.base_tokenizer.batch_decode(outputs, skip_special_tokens=True)\n",
    "\n",
    "print(f\"There are {len(inst_tuned_model_generated_text)} generated text from Only Ins-Tuned SmolL2\")\n",
    "print(\"-\"*20)\n",
    "print(f\"A sample generated text from Only Ins-Tuned SmolL2:\\n{inst_tuned_model_generated_text[0]}\")\n",
    "print(\"-\"*20)\n",
    "\n",
    "\n",
    "only_inst_tuned_model_generated_answers = []\n",
    "for onlt_inst_model_generated_text in inst_tuned_model_generated_text:\n",
    "    only_inst_tuned_model_generated_answers.append(utils.extract_inst_only_model_answer(onlt_inst_model_generated_text))"
   ]
  },
  {
   "cell_type": "code",
   "execution_count": 62,
   "id": "1183031b",
   "metadata": {},
   "outputs": [],
   "source": [
    "## Generate Responses with \"RAG-based Inst-Tuned SmolLM2\"\n",
    "rag_based_inst_tuned_model_generated_text = []\n",
    "rag_based_inst_tuned_model_generated_answers = []\n",
    "\n",
    "test_responses = qa_chain.batch(test_questions[:3])\n",
    "\n",
    "for test_response_elem in test_responses:\n",
    "    rag_based_inst_tuned_model_generated_text.append(test_response_elem['result'])\n",
    "\n",
    "for rag_generated_text in rag_based_inst_tuned_model_generated_text:\n",
    "    rag_based_inst_tuned_model_generated_answers.append(utils.extract_rag_answer(rag_generated_text))"
   ]
  },
  {
   "cell_type": "code",
   "execution_count": 67,
   "id": "f39df346",
   "metadata": {},
   "outputs": [
    {
     "data": {
      "text/html": [
       "<div>\n",
       "<style scoped>\n",
       "    .dataframe tbody tr th:only-of-type {\n",
       "        vertical-align: middle;\n",
       "    }\n",
       "\n",
       "    .dataframe tbody tr th {\n",
       "        vertical-align: top;\n",
       "    }\n",
       "\n",
       "    .dataframe thead th {\n",
       "        text-align: right;\n",
       "    }\n",
       "</style>\n",
       "<table border=\"1\" class=\"dataframe\">\n",
       "  <thead>\n",
       "    <tr style=\"text-align: right;\">\n",
       "      <th></th>\n",
       "      <th>only_inst_model_answer</th>\n",
       "      <th>rag_based_model_answer</th>\n",
       "      <th>gt_answer</th>\n",
       "    </tr>\n",
       "  </thead>\n",
       "  <tbody>\n",
       "    <tr>\n",
       "      <th>0</th>\n",
       "      <td>Yes, you have that right! The minimum payment ...</td>\n",
       "      <td>Yes, you have that right! The minimum payment ...</td>\n",
       "      <td>Yes, you have that right! The minimum payment ...</td>\n",
       "    </tr>\n",
       "    <tr>\n",
       "      <th>1</th>\n",
       "      <td>It's possible if we know what type of annuity ...</td>\n",
       "      <td>It's possible if we know what type of annuity ...</td>\n",
       "      <td>It's possible if we know what type of annuity ...</td>\n",
       "    </tr>\n",
       "  </tbody>\n",
       "</table>\n",
       "</div>"
      ],
      "text/plain": [
       "                              only_inst_model_answer  \\\n",
       "0  Yes, you have that right! The minimum payment ...   \n",
       "1  It's possible if we know what type of annuity ...   \n",
       "\n",
       "                              rag_based_model_answer  \\\n",
       "0  Yes, you have that right! The minimum payment ...   \n",
       "1  It's possible if we know what type of annuity ...   \n",
       "\n",
       "                                           gt_answer  \n",
       "0  Yes, you have that right! The minimum payment ...  \n",
       "1  It's possible if we know what type of annuity ...  "
      ]
     },
     "execution_count": 67,
     "metadata": {},
     "output_type": "execute_result"
    }
   ],
   "source": [
    "## Its time to make evaluation\n",
    "\n",
    "only_inst_tuned_model_generated_answers = rag_based_inst_tuned_model_generated_answers\n",
    "test_answers = rag_based_inst_tuned_model_generated_answers\n",
    "\n",
    "df = pd.DataFrame(list(zip(only_inst_tuned_model_generated_answers, rag_based_inst_tuned_model_generated_answers, test_answers)), \n",
    "                  columns=['only_inst_model_answer', 'rag_based_model_answer', \"gt_answer\"])\n",
    "\n",
    "df.head(2)"
   ]
  },
  {
   "cell_type": "code",
   "execution_count": 68,
   "id": "fcb9ef77",
   "metadata": {},
   "outputs": [
    {
     "name": "stderr",
     "output_type": "stream",
     "text": [
      "Using the latest cached version of the module from C:\\Users\\citak\\.cache\\huggingface\\modules\\evaluate_modules\\metrics\\evaluate-metric--rouge\\b01e0accf3bd6dd24839b769a5fda24e14995071570870922c71970b3a6ed886 (last modified on Sat Aug 31 02:06:36 2024) since it couldn't be found locally at evaluate-metric--rouge, or remotely on the Hugging Face Hub.\n"
     ]
    },
    {
     "name": "stdout",
     "output_type": "stream",
     "text": [
      "Only Instruction Tuned Model Evaluation Result: {'rouge1': 1.0, 'rouge2': 1.0, 'rougeL': 1.0, 'rougeLsum': 1.0}\n",
      "RAG-Based Instruction Tuned Model Evaluation Result: {'rouge1': 1.0, 'rouge2': 1.0, 'rougeL': 1.0, 'rougeLsum': 1.0}\n"
     ]
    }
   ],
   "source": [
    "## Calculate the ROUGE Score\n",
    "rouge = evaluate.load('rouge')\n",
    "\n",
    "only_inst_model_evaluation_result = rouge.compute(\n",
    "    predictions=only_inst_tuned_model_generated_answers,\n",
    "    references=test_answers,\n",
    "    use_aggregator=True,\n",
    "    use_stemmer=True\n",
    ")\n",
    "\n",
    "print(f\"Only Instruction Tuned Model Evaluation Result: {only_inst_model_evaluation_result}\")\n",
    "\n",
    "rag_based_model_evaluation_result = rouge.compute(\n",
    "    predictions=rag_based_inst_tuned_model_generated_answers,\n",
    "    references=test_answers,\n",
    "    use_aggregator=True,\n",
    "    use_stemmer=True\n",
    ")\n",
    "\n",
    "print(f\"RAG-Based Instruction Tuned Model Evaluation Result: {rag_based_model_evaluation_result}\")"
   ]
  }
 ],
 "metadata": {
  "kernelspec": {
   "display_name": "pytorch",
   "language": "python",
   "name": "python3"
  },
  "language_info": {
   "codemirror_mode": {
    "name": "ipython",
    "version": 3
   },
   "file_extension": ".py",
   "mimetype": "text/x-python",
   "name": "python",
   "nbconvert_exporter": "python",
   "pygments_lexer": "ipython3",
   "version": "3.8.19"
  }
 },
 "nbformat": 4,
 "nbformat_minor": 5
}
