{
 "cells": [
  {
   "cell_type": "code",
   "execution_count": 21,
   "id": "104874ba",
   "metadata": {},
   "outputs": [],
   "source": [
    "import os\n",
    "import re\n",
    "import time\n",
    "import random\n",
    "import numpy as np\n",
    "import pandas as pd\n",
    "from tqdm import tqdm\n",
    "\n",
    "from matplotlib import pyplot as plt\n",
    "\n",
    "import config\n",
    "import utils\n",
    "\n",
    "from data import prepare_data\n",
    "from embeddings import embedder\n",
    "from llm import smollm_wrapper\n",
    "from llm import smollm_raw_wrapper\n",
    "from chains import rag_chain"
   ]
  },
  {
   "cell_type": "code",
   "execution_count": 22,
   "id": "248561c3",
   "metadata": {},
   "outputs": [],
   "source": [
    "import importlib\n",
    "importlib.reload(config)\n",
    "importlib.reload(prepare_data)\n",
    "importlib.reload(embedder)\n",
    "importlib.reload(smollm_wrapper)\n",
    "importlib.reload(rag_chain)\n",
    "importlib.reload(utils)\n",
    "\n",
    "import warnings\n",
    "warnings.filterwarnings('ignore')"
   ]
  },
  {
   "cell_type": "code",
   "execution_count": 23,
   "id": "97f0118a",
   "metadata": {},
   "outputs": [
    {
     "name": "stdout",
     "output_type": "stream",
     "text": [
      "Initializing Dataset with train set\n",
      "--------------------\n",
      "Dataset is preprocessing\n",
      "--------------------\n",
      "Dataset preprocessing is done\n",
      "--------------------\n",
      "Initializing Dataset with test set\n",
      "--------------------\n",
      "Dataset is preprocessing\n",
      "--------------------\n",
      "Dataset preprocessing is done\n",
      "--------------------\n",
      "Initializing Embedding Model\n",
      "--------------------\n",
      "Initializing LLM Model\n",
      "--------------------\n",
      "Initializing Retrieval Chain\n",
      "--------------------\n"
     ]
    }
   ],
   "source": [
    "## Initialization of sub-components\n",
    "\n",
    "## Dataset Loader\n",
    "dataloader = prepare_data.DataLoader(config.DATASET_NAME)\n",
    "doc = dataloader.load_documents(split='train')\n",
    "\n",
    "dataloader_test = prepare_data.DataLoader(config.DATASET_NAME)\n",
    "doc_test = dataloader_test.load_documents(split='test')\n",
    "\n",
    "## Embedder Loader\n",
    "embedder_name = config.EMBED_MODEL\n",
    "embedder = embedder.Embedder(embedder_name)\n",
    "vector_store = embedder.build_vectorstore(doc)\n",
    "\n",
    "## LLM Loader\n",
    "base_model_id = config.BASE_MODEL_ID\n",
    "our_pretrained_lm_path = config.MODEL_ID\n",
    "llm_wrapper = smollm_wrapper.SmolLLMWrapper(base_model_id, our_pretrained_lm_path)\n",
    "\n",
    "## RAG Chain Loader\n",
    "rag_chain_train = rag_chain.RAGChainBuilder(llm_wrapper.llm, vector_store.as_retriever(search_kwargs={\"k\": 3}))\n",
    "qa_chain_train = rag_chain_train.build_chain()"
   ]
  },
  {
   "cell_type": "code",
   "execution_count": 24,
   "id": "9c6db363",
   "metadata": {},
   "outputs": [
    {
     "name": "stdout",
     "output_type": "stream",
     "text": [
      "page_content='Question: Is there any restriction on withdrawal in rupees of funds held in an EEFC account\n",
      "Answer: No, there is no restriction on withdrawal in rupees of funds held in an EEFC account. However, the amount withdrawn in rupees shall not be eligible for conversion into foreign currency and for re-credit to the account.'\n",
      "page_content='Question: Why should I buy Critical Illness insurance\n",
      "Answer: Critical Illness insurance provides you and your family additional financial security on the diagnosis of a critical illness. The policy provides a lump sum amount which could be used for: Cost of care and treatment Recuperation aid Debts pay off Any lost in income due to a decrease in ability to work View more'\n"
     ]
    }
   ],
   "source": [
    "i = 0\n",
    "print(doc[i])\n",
    "print(doc_test[i])"
   ]
  },
  {
   "cell_type": "code",
   "execution_count": 25,
   "id": "690789f4",
   "metadata": {},
   "outputs": [
    {
     "name": "stdout",
     "output_type": "stream",
     "text": [
      "Use the following pieces of context to answer the question at the end. If you don't know the answer, just say that you don't know, don't try to make up an answer.\n",
      "\n",
      "Question: Whom do I contact in case of ay further queries regarding the loan\n",
      "Answer: You can apply online on the clicking on the below given link, also you can walk into any of our branches located in 11 mentioned locations and our Sales Managers will help you with your need\n",
      "\n",
      "Question: How will HDFC decide my home loan eligibility\n",
      "Answer: HDFC assess the customer's repayment capacity based on income, age, qualifications, number of dependants, spouse's income, assets, liabilities, stability and continuity of occupation, and savings history.\n",
      "\n",
      "Question: Who is eligible for a tractor loan\n",
      "Answer: Whether you are a farmer or not, you can avail HDFC Bank's Tractor loan for agricultural or commercial purposes. If you are a farmer, you must have a minimum of 3 acres of agricultural land. To know about the eligibility criteria in detail, click here.\n",
      "\n",
      "Question: What are the criterias to get some loan?\n",
      "Helpful Answer: The requirements vary depending upon the type of loan offered by us. However, we generally look out for the following factors while approving loans\n",
      "\n",
      "  • Credit Score\n",
      "  • Income-earning capability (salary)\n",
      "  • Loan amount required\n",
      "  • Duration of tenure desired/required\n",
      "\n",
      "If you're looking for more information specific to farm loans, kindly visit this page where there'll be detailed explanations along with examples related to Farm Loans.\n",
      "\n",
      "I hope these answers provide clarity! Let me know if you require anything else.\n",
      "        \n"
     ]
    }
   ],
   "source": [
    "## Make some tests with RAG Chain\n",
    "query = \"What are the criterias to get some loan?\"\n",
    "response = qa_chain_train.run(query)\n",
    "print(response)"
   ]
  },
  {
   "cell_type": "markdown",
   "id": "8446da4d",
   "metadata": {},
   "source": [
    "### Only Instruction-Tuned SmolLM2"
   ]
  },
  {
   "cell_type": "code",
   "execution_count": 6,
   "id": "9cf0da6f",
   "metadata": {},
   "outputs": [
    {
     "name": "stdout",
     "output_type": "stream",
     "text": [
      "Initializing LLM Model\n",
      "--------------------\n"
     ]
    }
   ],
   "source": [
    "## LLM Loader\n",
    "base_model_id = config.BASE_MODEL_ID\n",
    "our_pretrained_lm_path = config.MODEL_ID\n",
    "llm_raw_wrapper = smollm_raw_wrapper.SmolLLM_Raw_Wrapper(base_model_id, our_pretrained_lm_path)"
   ]
  },
  {
   "cell_type": "code",
   "execution_count": 7,
   "id": "0c3e24a3",
   "metadata": {},
   "outputs": [
    {
     "name": "stdout",
     "output_type": "stream",
     "text": [
      "### Instruction:\n",
      "        You are an AI banking assistant. Respond to the customer's request in a clear and professional manner.\n",
      "\n",
      "        ### Customer Request:\n",
      "        What are the criterias to get some loan?\n",
      "\n",
      "        ### Response:\n",
      "         I can provide you with information about the criteria for getting a loan. To apply for a loan, we have several options available depending on your needs and preferences. Here is what you need to know:\n",
      "\n",
      "1. Fixed-rate loans: These types of loans offer fixed interest rates that remain constant over time. They usually require collateral or security deposit as part of the application process.\n",
      "2. Adjustable-rate loans: Unlike fixed-rate loans, these lend out at variable interest rates based on market conditions. The rate may change periodically throughout the repayment period.\n",
      "3. Personal loans: This type of loan allows individuals to borrow funds up to a predetermined amount without requiring any collateral. It provides quick access to cash when needed most.\n",
      "4. Business loans: Companies often seek financial assistance through business loans. These range from small personal loans to larger corporate ones where multiple factors like credit history and income verification come into play.\n",
      "5. Peer-to-peer lending platforms: Online marketplaces connect borrowers directly with individual investors who share similar goals and risk tolerance levels. There are various peer-to-peer lenders offering different products tailored specifically towards their customers' requirements.\n",
      "6. Home equity lines of credit (HELCs): HELC refers to a line of credit tied to homeownership. Lenders grant this kind of loan against existing property values rather than traditional bank accounts.\n",
      "7. Auto loans: Purchasing vehicles requires significant down payments and financing commitments. An auto loan offers flexibility by allowing buyers to tap into pre-approved home equity while paying off other debts simultaneously.\n",
      "8. Student loans: College education costs significantly impact student debt burdens. Many institutions now accept federal student loans alongside private alternatives such as Perkins Loans.\n",
      "9. Unsecured loans: Some unsecured loans do not involve collateralized assets but instead rely solely on borrower responsibility. Examples include payday advances, charge card balances, and medical expenses.\n",
      "\n",
      "Each option has its own set of eligibility criteria, terms, and potential fees associated with them. Consider consulting our {{Loan Department}} team if you would prefer personalized guidance regarding specific applications or questions related to particular categories mentioned above. Remember, applying for a loan involves thorough research and understanding all aspects before making a decision. Let me know if there's anything else I can assist you with!\n"
     ]
    }
   ],
   "source": [
    "response_raw = llm_raw_wrapper.generate_response(query)\n",
    "print(response_raw)"
   ]
  },
  {
   "cell_type": "markdown",
   "id": "ee007c30",
   "metadata": {},
   "source": [
    "### Evaluation of RAG-based and Only Ins-Tuned SmolLM2 Models on Test Dataset"
   ]
  },
  {
   "cell_type": "code",
   "execution_count": 8,
   "id": "3c288f0e",
   "metadata": {},
   "outputs": [],
   "source": [
    "import evaluate\n",
    "from datasets import Dataset"
   ]
  },
  {
   "cell_type": "markdown",
   "id": "a2e858b0",
   "metadata": {},
   "source": [
    "In this section we prepare our custom dataset, which is based on the test set of the \"GhulamShabbirKhan/BankFAQsMistral\" <br>\n",
    "\n",
    "In this context, we first get the test set questions, then using <CLAUDE.AI>, syn. generated test samples are generated. <br>\n",
    "The main concern of this step is data leakage! Since we will embed the questions in the test set while performing RAG with Langchain, we first generated semantically similar questions using <CLAUDE.AI> in order not to use the same questions during testing. Then, we asked these semantically similar questions to both RAG-based and instruction-only tuned models. Thus, we aimed to make a comparison as fair as possible. "
   ]
  },
  {
   "cell_type": "code",
   "execution_count": 9,
   "id": "0af0058f",
   "metadata": {},
   "outputs": [
    {
     "name": "stdout",
     "output_type": "stream",
     "text": [
      "# Train Questions: 1411\n",
      "# Test Questions: 353\n",
      "# Test Answers: 353\n",
      "\n"
     ]
    }
   ],
   "source": [
    "# Create the test question-answer pairs\n",
    "train_questions = [doc_entry.page_content.split(\"\\n\")[0].split(\"Question:\")[1] for doc_entry in doc]\n",
    "test_questions = [doc_entry.page_content.split(\"\\n\")[0].split(\"Question:\")[1] for doc_entry in doc_test]\n",
    "test_answers = [doc_entry.page_content.split(\"\\n\")[1].split(\"Answer:\")[1] for doc_entry in doc_test]\n",
    "\n",
    "print(f\"# Train Questions: {len(train_questions)}\\n# Test Questions: {len(test_questions)}\\n# Test Answers: {len(test_answers)}\\n\")"
   ]
  },
  {
   "cell_type": "code",
   "execution_count": 10,
   "id": "4c0aa61a",
   "metadata": {},
   "outputs": [
    {
     "name": "stdout",
     "output_type": "stream",
     "text": [
      "There are 104 questions in both dataset!\n",
      "249 249\n"
     ]
    }
   ],
   "source": [
    "test_questions, test_answers = utils.remove_joint_questions(train_questions, test_questions, test_answers)\n",
    "\n",
    "print(len(test_questions), len(test_answers))"
   ]
  },
  {
   "cell_type": "code",
   "execution_count": 11,
   "id": "7599e7cf",
   "metadata": {},
   "outputs": [
    {
     "name": "stdout",
     "output_type": "stream",
     "text": [
      "# Syn. Test Questions: 249\n",
      "# Test Questions: 249\n"
     ]
    }
   ],
   "source": [
    "test_syn_questions = []\n",
    "\n",
    "with open(config.SYN_QUESTIONS, \"r\") as file:\n",
    "    lines = file.readlines()\n",
    "\n",
    "    for line in lines:\n",
    "        syn_question = line.split(\"→\")[1].replace(\"\\\"\", \"\").strip()\n",
    "        test_syn_questions.append(syn_question)\n",
    "\n",
    "\n",
    "print(f\"# Syn. Test Questions: {len(test_syn_questions)}\\n# Test Questions: {len(test_questions)}\")"
   ]
  },
  {
   "cell_type": "code",
   "execution_count": 12,
   "id": "306eb9a6",
   "metadata": {},
   "outputs": [
    {
     "name": "stdout",
     "output_type": "stream",
     "text": [
      "Original Question:  Can I get a loan or partial withdrawal on this plan\n",
      "Syn. Question: Does this plan offer options for borrowing against it or making partial withdrawals?\n"
     ]
    }
   ],
   "source": [
    "# Print sample original and syn. questions\n",
    "sample_idx = random.randint(0, len(test_questions)-1)\n",
    "\n",
    "print(f\"Original Question: {test_questions[sample_idx]}\")\n",
    "print(f\"Syn. Question: {test_syn_questions[sample_idx]}\")"
   ]
  },
  {
   "cell_type": "code",
   "execution_count": 26,
   "id": "324bb1f1",
   "metadata": {},
   "outputs": [
    {
     "name": "stdout",
     "output_type": "stream",
     "text": [
      "Initializing Retrieval Chain\n",
      "--------------------\n",
      "There are 249 documents-retrieved pairs\n",
      "--------------------\n",
      "A sample question based retrieval:\n",
      "Question: What's the highest initial deposit amount allowed when opening a Recurring Deposit account?\n",
      "--------------------\n",
      "Retrieved documents:\n",
      "[Document(page_content='Question: What is the maximum deposit amount a Recurring Deposit account can be opened with\\nAnswer: The Maximum installment amount you can open a recurring Deposit account with is Rs 14,99,900/- per month.'), Document(page_content='Question: For what period can I open a Recurring Deposit\\nAnswer: You can open a Recurring Deposit account for a minimum period of 6 months, and thereafter in multiples of 3 months up to a maximum period of 10 years.'), Document(page_content='Question: Is an overdraft facility allowed\\nAnswer: Right now there is no overdraft facility for Recurring Deposits.')]\n",
      "--------------------\n"
     ]
    }
   ],
   "source": [
    "# Retrieve Contexts in Batch\n",
    "# Get top_k contexts for all questions\n",
    "\n",
    "vector_store_test = embedder.build_vectorstore(doc_test)\n",
    "retriever_test = vector_store_test.as_retriever(search_kwargs={\"k\": 3})\n",
    "\n",
    "rag_chain_test = rag_chain.RAGChainBuilder(llm_wrapper.llm, vector_store_test.as_retriever(search_kwargs={\"k\": 3}))\n",
    "qa_chain_test = rag_chain_test.build_chain()\n",
    "\n",
    "# Get top_k contexts for all questions\n",
    "retrieved_docs_batch = retriever_test.batch(test_syn_questions)\n",
    "\n",
    "print(f\"There are {len(retrieved_docs_batch)} documents-retrieved pairs\")\n",
    "print(\"-\"*20)\n",
    "\n",
    "print(f\"A sample question based retrieval:\\nQuestion: {test_syn_questions[0]}\")\n",
    "print(\"-\"*20)\n",
    "print(f\"Retrieved documents:\\n{retrieved_docs_batch[0]}\")\n",
    "print(\"-\"*20)"
   ]
  },
  {
   "cell_type": "code",
   "execution_count": 14,
   "id": "82ebbe78",
   "metadata": {},
   "outputs": [
    {
     "name": "stderr",
     "output_type": "stream",
     "text": [
      "Setting `pad_token_id` to `eos_token_id`:None for open-end generation.\n"
     ]
    },
    {
     "name": "stdout",
     "output_type": "stream",
     "text": [
      "There are 249 questions in prompt template\n",
      "--------------------\n",
      "A sample prompt for Only Ins-Tuned SmolL2:\n",
      "\n",
      "        ### Instruction:\n",
      "        You are an AI banking assistant. Respond to the customer's request in a clear and professional manner.\n",
      "\n",
      "        ### Customer Request:\n",
      "         What is the maximum deposit amount a Recurring Deposit account can be opened with\n",
      "\n",
      "        ### Response:\n",
      "        \n",
      "--------------------\n",
      "There are 249 generated text from Only Ins-Tuned SmolL2\n",
      "--------------------\n",
      "A sample generated text from Only Ins-Tuned SmolL2:\n",
      "\n",
      "        ### Instruction:\n",
      "        You are an AI banking assistant. Respond to the customer's request in a clear and professional manner.\n",
      "\n",
      "        ### Customer Request:\n",
      "         What is the maximum deposit amount a Recurring Deposit account can be opened with\n",
      "\n",
      "        ### Response:\n",
      "         I can provide you with the maximum amount that you can deposit with your recurring deposit account. To determine the maximum amount, I'll need some additional information. Could you please provide me with your account number or the name of the bank? Once I have that, I'll be able to assist you further in finding the maximum deposit amount for your recurring deposit account.\n",
      "        \n",
      "--------------------\n"
     ]
    }
   ],
   "source": [
    "## Generate Responses with \"Only Inst-Tuned SmolLM2\"\n",
    "prompt_template = \"\"\"\n",
    "        ### Instruction:\n",
    "        You are an AI banking assistant. Respond to the customer's request in a clear and professional manner.\n",
    "\n",
    "        ### Customer Request:\n",
    "        {question}\n",
    "\n",
    "        ### Response:\n",
    "        \"\"\"\n",
    "\n",
    "prompts = [\n",
    "    prompt_template.format(question=q)\n",
    "    for q in test_questions\n",
    "]\n",
    "\n",
    "print(f\"There are {len(prompts)} questions in prompt template\")\n",
    "print(\"-\"*20)\n",
    "print(f\"A sample prompt for Only Ins-Tuned SmolL2:\\n{prompts[0]}\")\n",
    "print(\"-\"*20)\n",
    "\n",
    "\n",
    "# Predict responses\n",
    "inputs = llm_raw_wrapper.base_tokenizer(prompts, return_tensors=\"pt\", padding=True, truncation=True).to(\"cuda\")\n",
    "outputs = llm_raw_wrapper.tuned_model.generate(**inputs, max_new_tokens=512)\n",
    "\n",
    "inst_tuned_model_generated_text = llm_raw_wrapper.base_tokenizer.batch_decode(outputs, skip_special_tokens=True)\n",
    "\n",
    "print(f\"There are {len(inst_tuned_model_generated_text)} generated text from Only Ins-Tuned SmolL2\")\n",
    "print(\"-\"*20)\n",
    "print(f\"A sample generated text from Only Ins-Tuned SmolL2:\\n{inst_tuned_model_generated_text[0]}\")\n",
    "print(\"-\"*20)\n",
    "\n",
    "\n",
    "only_inst_tuned_model_generated_answers = []\n",
    "for onlt_inst_model_generated_text in inst_tuned_model_generated_text:\n",
    "    only_inst_tuned_model_generated_answers.append(utils.extract_inst_only_model_answer(onlt_inst_model_generated_text))"
   ]
  },
  {
   "cell_type": "code",
   "execution_count": 27,
   "id": "1183031b",
   "metadata": {},
   "outputs": [],
   "source": [
    "## Generate Responses with \"RAG-based Inst-Tuned SmolLM2\"\n",
    "rag_based_inst_tuned_model_generated_text = []\n",
    "rag_based_inst_tuned_model_generated_answers = []\n",
    "\n",
    "test_responses = qa_chain_test.batch(test_syn_questions)\n",
    "\n",
    "for test_response_elem in test_responses:\n",
    "    rag_based_inst_tuned_model_generated_text.append(test_response_elem['result'])\n",
    "\n",
    "for rag_generated_text in rag_based_inst_tuned_model_generated_text:\n",
    "    rag_based_inst_tuned_model_generated_answers.append(utils.extract_rag_answer(rag_generated_text))"
   ]
  },
  {
   "cell_type": "code",
   "execution_count": 28,
   "id": "f39df346",
   "metadata": {},
   "outputs": [
    {
     "data": {
      "text/html": [
       "<div>\n",
       "<style scoped>\n",
       "    .dataframe tbody tr th:only-of-type {\n",
       "        vertical-align: middle;\n",
       "    }\n",
       "\n",
       "    .dataframe tbody tr th {\n",
       "        vertical-align: top;\n",
       "    }\n",
       "\n",
       "    .dataframe thead th {\n",
       "        text-align: right;\n",
       "    }\n",
       "</style>\n",
       "<table border=\"1\" class=\"dataframe\">\n",
       "  <thead>\n",
       "    <tr style=\"text-align: right;\">\n",
       "      <th></th>\n",
       "      <th>only_inst_model_answer</th>\n",
       "      <th>rag_based_model_answer</th>\n",
       "      <th>gt_answer</th>\n",
       "    </tr>\n",
       "  </thead>\n",
       "  <tbody>\n",
       "    <tr>\n",
       "      <th>0</th>\n",
       "      <td>I can provide you with the maximum amount that...</td>\n",
       "      <td>The maximum deposit amount which could be depo...</td>\n",
       "      <td>The Maximum installment amount you can open a...</td>\n",
       "    </tr>\n",
       "    <tr>\n",
       "      <th>1</th>\n",
       "      <td>I'm sorry to hear that you're facing difficult...</td>\n",
       "      <td>To withdraw any amount prior to its maturity, ...</td>\n",
       "      <td>We request you to submit your Fixed Deposit a...</td>\n",
       "    </tr>\n",
       "  </tbody>\n",
       "</table>\n",
       "</div>"
      ],
      "text/plain": [
       "                              only_inst_model_answer  \\\n",
       "0  I can provide you with the maximum amount that...   \n",
       "1  I'm sorry to hear that you're facing difficult...   \n",
       "\n",
       "                              rag_based_model_answer  \\\n",
       "0  The maximum deposit amount which could be depo...   \n",
       "1  To withdraw any amount prior to its maturity, ...   \n",
       "\n",
       "                                           gt_answer  \n",
       "0   The Maximum installment amount you can open a...  \n",
       "1   We request you to submit your Fixed Deposit a...  "
      ]
     },
     "execution_count": 28,
     "metadata": {},
     "output_type": "execute_result"
    }
   ],
   "source": [
    "## Its time to make evaluation\n",
    "df = pd.DataFrame(list(zip(only_inst_tuned_model_generated_answers, rag_based_inst_tuned_model_generated_answers, test_answers)), \n",
    "                  columns=['only_inst_model_answer', 'rag_based_model_answer', \"gt_answer\"])\n",
    "\n",
    "df.head(2)"
   ]
  },
  {
   "cell_type": "code",
   "execution_count": 29,
   "id": "eaca17de",
   "metadata": {},
   "outputs": [],
   "source": [
    "df.to_csv(\"Chain_answers_syn_default_prompt.csv\")"
   ]
  },
  {
   "cell_type": "code",
   "execution_count": 30,
   "id": "fcb9ef77",
   "metadata": {},
   "outputs": [
    {
     "name": "stderr",
     "output_type": "stream",
     "text": [
      "WARNING:evaluate.loading:Using the latest cached version of the module from C:\\Users\\citak\\.cache\\huggingface\\modules\\evaluate_modules\\metrics\\evaluate-metric--rouge\\b01e0accf3bd6dd24839b769a5fda24e14995071570870922c71970b3a6ed886 (last modified on Sat Aug 31 02:06:36 2024) since it couldn't be found locally at evaluate-metric--rouge, or remotely on the Hugging Face Hub.\n"
     ]
    },
    {
     "name": "stdout",
     "output_type": "stream",
     "text": [
      "Only Instruction Tuned Model Evaluation Result: {'rouge1': 0.1712090957396932, 'rouge2': 0.03570253199449386, 'rougeL': 0.11409797828007184, 'rougeLsum': 0.12881372545688663}\n",
      "RAG-Based Instruction Tuned Model Evaluation Result: {'rouge1': 0.13166631318909178, 'rouge2': 0.01549872916234204, 'rougeL': 0.08427176664117003, 'rougeLsum': 0.08988182969340588}\n"
     ]
    }
   ],
   "source": [
    "## Calculate the ROUGE Score\n",
    "rouge = evaluate.load('rouge')\n",
    "\n",
    "only_inst_model_evaluation_result = rouge.compute(\n",
    "    predictions=only_inst_tuned_model_generated_answers,\n",
    "    references=test_answers,\n",
    "    use_aggregator=True,\n",
    "    use_stemmer=True\n",
    ")\n",
    "\n",
    "print(f\"Only Instruction Tuned Model Evaluation Result: {only_inst_model_evaluation_result}\")\n",
    "\n",
    "rag_based_model_evaluation_result = rouge.compute(\n",
    "    predictions=rag_based_inst_tuned_model_generated_answers,\n",
    "    references=test_answers,\n",
    "    use_aggregator=True,\n",
    "    use_stemmer=True\n",
    ")\n",
    "\n",
    "print(f\"RAG-Based Instruction Tuned Model Evaluation Result: {rag_based_model_evaluation_result}\")"
   ]
  },
  {
   "cell_type": "code",
   "execution_count": 47,
   "id": "ecb0b6ef",
   "metadata": {},
   "outputs": [
    {
     "name": "stdout",
     "output_type": "stream",
     "text": [
      "Question\n",
      "What is the application process for a Loan Against Property?\n",
      "--------------------\n",
      "\n",
      "\n",
      "GT Answer\n",
      " You can apply for a loan in the following ways: Fill in the online application form and our representative will get in touch with you Call one of our PhoneBanking numbers provided on the website Visit your nearest branch Our existing liability customers may also get in touch with their Relationship Managers/ Personal Bankers to know more and apply for LAP\n",
      "--------------------\n",
      "\n",
      "\n",
      "Only-Inst Model Answer\n",
      "I'm here to assist you with applying for a Loan Against Property (LAP). Here's a step-by-step guide to help you through the process:\n",
      "\n",
      "1. Start by gathering all the necessary documents such as identification proof, income statements, bank statements, and any other relevant financial documents.\n",
      "\n",
      "2. Research and compare different lenders to find the best terms and interest rates for your needs. Consider factors like interest rates, repayment terms, and any additional fees.\n",
      "\n",
      "3. Once you've chosen a lender, visit their website or contact their customer service to begin the application process. They will guide you through the necessary steps and provide you with the required forms.\n",
      "\n",
      "4. Fill out the application form accurately and provide all the requested information. Double-check the form for any errors or missing details.\n",
      "\n",
      "5. Submit the completed application along with the required documents to the lender. They may require additional information or documentation during the review process.\n",
      "\n",
      "6. The lender will review your application and assess your eligibility. This process may take some time, so be patient.\n",
      "\n",
      "7. If your application is approved, the lender will provide you with the loan terms and conditions. Take the time to review them carefully and ask any questions you may have.\n",
      "\n",
      "8. Once you've accepted the loan terms, the lender will disburse the funds to your designated account. Make sure to keep track of the payment schedule and ensure you have the required funds available.\n",
      "\n",
      "Remember, each lender may have specific requirements and processes, so it's essential to follow their instructions and seek clarification if needed. If you have any further questions or need assistance during the application process, feel free to reach out to me. I'm here to help!\n",
      "--------------------\n",
      "\n",
      "\n",
      "RAG-Based Model Answer\n",
      "The first step towards applying for a Loan Against Property involves filling out the appropriate forms available on our website or contacting us through phone banking. These applications typically require personal information such as name, address details, employment history, income data etc., along with supporting documentation like pay stubs, tax returns, bank statements, insurance policies, medical records if applicable. It’s important to provide accurate and complete information during this stage so we can proceed smoothly. After submitting these forms, our team will review them thoroughly and initiate the processing phase once approved. We aim to deliver results promptly but keep in mind that timelines vary depending upon factors such as submission volume, complexity of the case, and any additional requirements from both parties involved.\n",
      "--------------------\n"
     ]
    }
   ],
   "source": [
    "analysis_idx = -1#101\n",
    "\n",
    "question = test_syn_questions[analysis_idx]\n",
    "gt_answer = df.iloc[analysis_idx][2]\n",
    "only_inst_answer = df.iloc[analysis_idx][0]\n",
    "rag_answer = df.iloc[analysis_idx][1]\n",
    "\n",
    "\n",
    "print(f\"Question\\n{question}\")\n",
    "print(\"-\"*20)\n",
    "print(\"\\n\")\n",
    "print(f\"GT Answer\\n{gt_answer}\")\n",
    "print(\"-\"*20)\n",
    "print(\"\\n\")\n",
    "print(f\"Only-Inst Model Answer\\n{only_inst_answer}\")\n",
    "print(\"-\"*20)\n",
    "print(\"\\n\")\n",
    "print(f\"RAG-Based Model Answer\\n{rag_answer}\")\n",
    "print(\"-\"*20)"
   ]
  },
  {
   "cell_type": "code",
   "execution_count": 49,
   "id": "60689a75",
   "metadata": {},
   "outputs": [],
   "source": [
    "## Evaluation based on the semanticly\n",
    "from sentence_transformers import SentenceTransformer, util"
   ]
  },
  {
   "cell_type": "code",
   "execution_count": 59,
   "id": "d3e941b0",
   "metadata": {},
   "outputs": [
    {
     "data": {
      "application/vnd.jupyter.widget-view+json": {
       "model_id": "74a47c1aaa5c49e69ee11ea7d7bb68c3",
       "version_major": 2,
       "version_minor": 0
      },
      "text/plain": [
       "modules.json:   0%|          | 0.00/349 [00:00<?, ?B/s]"
      ]
     },
     "metadata": {},
     "output_type": "display_data"
    },
    {
     "data": {
      "application/vnd.jupyter.widget-view+json": {
       "model_id": "2b795e81860d4467bbae1653956851f6",
       "version_major": 2,
       "version_minor": 0
      },
      "text/plain": [
       "config_sentence_transformers.json:   0%|          | 0.00/116 [00:00<?, ?B/s]"
      ]
     },
     "metadata": {},
     "output_type": "display_data"
    },
    {
     "data": {
      "application/vnd.jupyter.widget-view+json": {
       "model_id": "8cb33eb092a9465ba66fe1fd09f1f43a",
       "version_major": 2,
       "version_minor": 0
      },
      "text/plain": [
       "README.md:   0%|          | 0.00/10.4k [00:00<?, ?B/s]"
      ]
     },
     "metadata": {},
     "output_type": "display_data"
    },
    {
     "data": {
      "application/vnd.jupyter.widget-view+json": {
       "model_id": "5114a5714fd645c6bf4896b320baf679",
       "version_major": 2,
       "version_minor": 0
      },
      "text/plain": [
       "sentence_bert_config.json:   0%|          | 0.00/53.0 [00:00<?, ?B/s]"
      ]
     },
     "metadata": {},
     "output_type": "display_data"
    },
    {
     "data": {
      "application/vnd.jupyter.widget-view+json": {
       "model_id": "14c13dc696c64a9d870143b44df46b97",
       "version_major": 2,
       "version_minor": 0
      },
      "text/plain": [
       "config.json:   0%|          | 0.00/571 [00:00<?, ?B/s]"
      ]
     },
     "metadata": {},
     "output_type": "display_data"
    },
    {
     "data": {
      "application/vnd.jupyter.widget-view+json": {
       "model_id": "4c610c65a8774c90a46d43519597b92c",
       "version_major": 2,
       "version_minor": 0
      },
      "text/plain": [
       "model.safetensors:   0%|          | 0.00/438M [00:00<?, ?B/s]"
      ]
     },
     "metadata": {},
     "output_type": "display_data"
    },
    {
     "data": {
      "application/vnd.jupyter.widget-view+json": {
       "model_id": "6c9989900fdc443cad345a3fd0833424",
       "version_major": 2,
       "version_minor": 0
      },
      "text/plain": [
       "tokenizer_config.json:   0%|          | 0.00/363 [00:00<?, ?B/s]"
      ]
     },
     "metadata": {},
     "output_type": "display_data"
    },
    {
     "data": {
      "application/vnd.jupyter.widget-view+json": {
       "model_id": "70a8a71a48f1489e8f2ac83b06979265",
       "version_major": 2,
       "version_minor": 0
      },
      "text/plain": [
       "vocab.txt:   0%|          | 0.00/232k [00:00<?, ?B/s]"
      ]
     },
     "metadata": {},
     "output_type": "display_data"
    },
    {
     "data": {
      "application/vnd.jupyter.widget-view+json": {
       "model_id": "8049c474406047ba88b1296281ea2277",
       "version_major": 2,
       "version_minor": 0
      },
      "text/plain": [
       "tokenizer.json:   0%|          | 0.00/466k [00:00<?, ?B/s]"
      ]
     },
     "metadata": {},
     "output_type": "display_data"
    },
    {
     "data": {
      "application/vnd.jupyter.widget-view+json": {
       "model_id": "16d09ecd2f1e4a89898b6772d4949259",
       "version_major": 2,
       "version_minor": 0
      },
      "text/plain": [
       "special_tokens_map.json:   0%|          | 0.00/239 [00:00<?, ?B/s]"
      ]
     },
     "metadata": {},
     "output_type": "display_data"
    },
    {
     "data": {
      "application/vnd.jupyter.widget-view+json": {
       "model_id": "75f1fb7c9a924c8785540ee1f307fa0f",
       "version_major": 2,
       "version_minor": 0
      },
      "text/plain": [
       "config.json:   0%|          | 0.00/190 [00:00<?, ?B/s]"
      ]
     },
     "metadata": {},
     "output_type": "display_data"
    }
   ],
   "source": [
    "model = SentenceTransformer('all-mpnet-base-v2')"
   ]
  },
  {
   "cell_type": "code",
   "execution_count": 60,
   "id": "50894ba6",
   "metadata": {},
   "outputs": [
    {
     "name": "stderr",
     "output_type": "stream",
     "text": [
      "100%|██████████| 249/249 [00:15<00:00, 15.95it/s]\n"
     ]
    }
   ],
   "source": [
    "similarity_matrix = np.ones((len(df),2))*-1\n",
    "\n",
    "\n",
    "for df_idx in tqdm(range(len(df))):\n",
    "\n",
    "    question = test_syn_questions[df_idx]\n",
    "    gt_answer = df.iloc[df_idx][2]\n",
    "    only_inst_answer = df.iloc[df_idx][0]\n",
    "    rag_answer = df.iloc[df_idx][1]\n",
    "\n",
    "    \n",
    "    # compare the questions\n",
    "    embedding_gt = model.encode(gt_answer, convert_to_tensor=True)\n",
    "    embedding_only_inst = model.encode(only_inst_answer, convert_to_tensor=True)\n",
    "    embedding_rag = model.encode(rag_answer, convert_to_tensor=True)\n",
    "\n",
    "    # Compute cosine similarity\n",
    "    similarity_inst_only = util.pytorch_cos_sim(embedding_gt, embedding_only_inst).detach().cpu().numpy()[0,0]\n",
    "    similarity_rag = util.pytorch_cos_sim(embedding_gt, embedding_rag).detach().cpu().numpy()[0,0]\n",
    "\n",
    "    similarity_matrix[df_idx][0] = similarity_inst_only\n",
    "    similarity_matrix[df_idx][1] = similarity_rag"
   ]
  },
  {
   "cell_type": "code",
   "execution_count": 61,
   "id": "7f6727cc",
   "metadata": {},
   "outputs": [
    {
     "name": "stdout",
     "output_type": "stream",
     "text": [
      "Mean Semantic Similarity\n",
      "Inst-Only: 0.5573131607837946\n",
      "RAG-Based: 0.5540917125646488\n"
     ]
    }
   ],
   "source": [
    "inst_only_semantic_similarity = np.mean(similarity_matrix[:,0])\n",
    "rag_semantic_similarity = np.mean(similarity_matrix[:,1])\n",
    "\n",
    "print(f\"Mean Semantic Similarity\\nInst-Only: {inst_only_semantic_similarity}\\nRAG-Based: {rag_semantic_similarity}\")"
   ]
  },
  {
   "cell_type": "code",
   "execution_count": 68,
   "id": "d6fe0004",
   "metadata": {},
   "outputs": [
    {
     "data": {
      "text/html": [
       "<div>\n",
       "<style scoped>\n",
       "    .dataframe tbody tr th:only-of-type {\n",
       "        vertical-align: middle;\n",
       "    }\n",
       "\n",
       "    .dataframe tbody tr th {\n",
       "        vertical-align: top;\n",
       "    }\n",
       "\n",
       "    .dataframe thead th {\n",
       "        text-align: right;\n",
       "    }\n",
       "</style>\n",
       "<table border=\"1\" class=\"dataframe\">\n",
       "  <thead>\n",
       "    <tr style=\"text-align: right;\">\n",
       "      <th></th>\n",
       "      <th>only_inst_model_answer</th>\n",
       "      <th>rag_based_model_answer</th>\n",
       "      <th>gt_answer</th>\n",
       "    </tr>\n",
       "  </thead>\n",
       "  <tbody>\n",
       "    <tr>\n",
       "      <th>0</th>\n",
       "      <td>I can provide you with the maximum amount that...</td>\n",
       "      <td>The maximum deposit amount which could be depo...</td>\n",
       "      <td>The Maximum installment amount you can open a...</td>\n",
       "    </tr>\n",
       "    <tr>\n",
       "      <th>1</th>\n",
       "      <td>I'm sorry to hear that you're facing difficult...</td>\n",
       "      <td>To withdraw any amount prior to its maturity, ...</td>\n",
       "      <td>We request you to submit your Fixed Deposit a...</td>\n",
       "    </tr>\n",
       "    <tr>\n",
       "      <th>2</th>\n",
       "      <td>I can help you with that. To set up your IVR p...</td>\n",
       "      <td>Yes! You're right in saying that we use a \"One...</td>\n",
       "      <td>To make telephonic (IVR) transactions more se...</td>\n",
       "    </tr>\n",
       "    <tr>\n",
       "      <th>3</th>\n",
       "      <td>I'm here to assist you with finding the availa...</td>\n",
       "      <td>There is no specific coverages offered by our ...</td>\n",
       "      <td>You can choose to be insured for any of the f...</td>\n",
       "    </tr>\n",
       "    <tr>\n",
       "      <th>4</th>\n",
       "      <td>I'm here to assist you with that. The Service ...</td>\n",
       "      <td>The Service Tax charged by your bank varies de...</td>\n",
       "      <td>Following are the currency conversion service...</td>\n",
       "    </tr>\n",
       "    <tr>\n",
       "      <th>...</th>\n",
       "      <td>...</td>\n",
       "      <td>...</td>\n",
       "      <td>...</td>\n",
       "    </tr>\n",
       "    <tr>\n",
       "      <th>244</th>\n",
       "      <td>I can provide you with information about the l...</td>\n",
       "      <td>You are welcome! To find out about our availab...</td>\n",
       "      <td>SmartDraft is available in the following loca...</td>\n",
       "    </tr>\n",
       "    <tr>\n",
       "      <th>245</th>\n",
       "      <td>I can help you with that! Investing in a new p...</td>\n",
       "      <td>You have various options available when it com...</td>\n",
       "      <td>In this policy, the investment risk in invest...</td>\n",
       "    </tr>\n",
       "    <tr>\n",
       "      <th>246</th>\n",
       "      <td>I'm here to assist you with purchasing your {{...</td>\n",
       "      <td>To obtain your gift plus card from us, please ...</td>\n",
       "      <td>GiftPlus cards are available in all HDFC bank...</td>\n",
       "    </tr>\n",
       "    <tr>\n",
       "      <th>247</th>\n",
       "      <td>I'm sorry to hear that you're facing an issue ...</td>\n",
       "      <td>Please follow these instructions to resolve th...</td>\n",
       "      <td>Your card is already registered for Verified ...</td>\n",
       "    </tr>\n",
       "    <tr>\n",
       "      <th>248</th>\n",
       "      <td>I'm here to assist you with applying for a Loa...</td>\n",
       "      <td>The first step towards applying for a Loan Aga...</td>\n",
       "      <td>You can apply for a loan in the following way...</td>\n",
       "    </tr>\n",
       "  </tbody>\n",
       "</table>\n",
       "<p>249 rows × 3 columns</p>\n",
       "</div>"
      ],
      "text/plain": [
       "                                only_inst_model_answer  \\\n",
       "0    I can provide you with the maximum amount that...   \n",
       "1    I'm sorry to hear that you're facing difficult...   \n",
       "2    I can help you with that. To set up your IVR p...   \n",
       "3    I'm here to assist you with finding the availa...   \n",
       "4    I'm here to assist you with that. The Service ...   \n",
       "..                                                 ...   \n",
       "244  I can provide you with information about the l...   \n",
       "245  I can help you with that! Investing in a new p...   \n",
       "246  I'm here to assist you with purchasing your {{...   \n",
       "247  I'm sorry to hear that you're facing an issue ...   \n",
       "248  I'm here to assist you with applying for a Loa...   \n",
       "\n",
       "                                rag_based_model_answer  \\\n",
       "0    The maximum deposit amount which could be depo...   \n",
       "1    To withdraw any amount prior to its maturity, ...   \n",
       "2    Yes! You're right in saying that we use a \"One...   \n",
       "3    There is no specific coverages offered by our ...   \n",
       "4    The Service Tax charged by your bank varies de...   \n",
       "..                                                 ...   \n",
       "244  You are welcome! To find out about our availab...   \n",
       "245  You have various options available when it com...   \n",
       "246  To obtain your gift plus card from us, please ...   \n",
       "247  Please follow these instructions to resolve th...   \n",
       "248  The first step towards applying for a Loan Aga...   \n",
       "\n",
       "                                             gt_answer  \n",
       "0     The Maximum installment amount you can open a...  \n",
       "1     We request you to submit your Fixed Deposit a...  \n",
       "2     To make telephonic (IVR) transactions more se...  \n",
       "3     You can choose to be insured for any of the f...  \n",
       "4     Following are the currency conversion service...  \n",
       "..                                                 ...  \n",
       "244   SmartDraft is available in the following loca...  \n",
       "245   In this policy, the investment risk in invest...  \n",
       "246   GiftPlus cards are available in all HDFC bank...  \n",
       "247   Your card is already registered for Verified ...  \n",
       "248   You can apply for a loan in the following way...  \n",
       "\n",
       "[249 rows x 3 columns]"
      ]
     },
     "execution_count": 68,
     "metadata": {},
     "output_type": "execute_result"
    }
   ],
   "source": [
    "df"
   ]
  },
  {
   "cell_type": "code",
   "execution_count": 69,
   "id": "74c162a2",
   "metadata": {},
   "outputs": [
    {
     "name": "stderr",
     "output_type": "stream",
     "text": [
      "Some weights of RobertaModel were not initialized from the model checkpoint at roberta-large and are newly initialized: ['roberta.pooler.dense.bias', 'roberta.pooler.dense.weight']\n",
      "You should probably TRAIN this model on a down-stream task to be able to use it for predictions and inference.\n"
     ]
    },
    {
     "name": "stdout",
     "output_type": "stream",
     "text": [
      "calculating scores...\n",
      "computing bert embedding.\n"
     ]
    },
    {
     "data": {
      "application/vnd.jupyter.widget-view+json": {
       "model_id": "2891a9777fd344039f574430c8eb86f6",
       "version_major": 2,
       "version_minor": 0
      },
      "text/plain": [
       "  0%|          | 0/8 [00:00<?, ?it/s]"
      ]
     },
     "metadata": {},
     "output_type": "display_data"
    },
    {
     "name": "stdout",
     "output_type": "stream",
     "text": [
      "computing greedy matching.\n"
     ]
    },
    {
     "data": {
      "application/vnd.jupyter.widget-view+json": {
       "model_id": "5824fc4c12244d01871e0e9489c83709",
       "version_major": 2,
       "version_minor": 0
      },
      "text/plain": [
       "  0%|          | 0/4 [00:00<?, ?it/s]"
      ]
     },
     "metadata": {},
     "output_type": "display_data"
    },
    {
     "name": "stdout",
     "output_type": "stream",
     "text": [
      "done in 86.73 seconds, 2.87 sentences/sec\n"
     ]
    },
    {
     "name": "stderr",
     "output_type": "stream",
     "text": [
      "Some weights of RobertaModel were not initialized from the model checkpoint at roberta-large and are newly initialized: ['roberta.pooler.dense.bias', 'roberta.pooler.dense.weight']\n",
      "You should probably TRAIN this model on a down-stream task to be able to use it for predictions and inference.\n"
     ]
    },
    {
     "name": "stdout",
     "output_type": "stream",
     "text": [
      "calculating scores...\n",
      "computing bert embedding.\n"
     ]
    },
    {
     "data": {
      "application/vnd.jupyter.widget-view+json": {
       "model_id": "999bd1e6ca74426da7647cfee20a2de2",
       "version_major": 2,
       "version_minor": 0
      },
      "text/plain": [
       "  0%|          | 0/8 [00:00<?, ?it/s]"
      ]
     },
     "metadata": {},
     "output_type": "display_data"
    },
    {
     "name": "stdout",
     "output_type": "stream",
     "text": [
      "computing greedy matching.\n"
     ]
    },
    {
     "data": {
      "application/vnd.jupyter.widget-view+json": {
       "model_id": "4e1ad9b5681842ea97316443767a3a1e",
       "version_major": 2,
       "version_minor": 0
      },
      "text/plain": [
       "  0%|          | 0/4 [00:00<?, ?it/s]"
      ]
     },
     "metadata": {},
     "output_type": "display_data"
    },
    {
     "name": "stdout",
     "output_type": "stream",
     "text": [
      "done in 82.95 seconds, 3.00 sentences/sec\n",
      "Mean Semantic Similarity\n",
      "Inst-Only: 0.8389032483100891\n",
      "RAG-Based: 0.8440746665000916\n"
     ]
    },
    {
     "name": "stderr",
     "output_type": "stream",
     "text": [
      "Warning: Empty reference sentence detected; setting raw BERTScores to 0.\n"
     ]
    }
   ],
   "source": [
    "## Evaluation based on the BERT\n",
    "from bert_score import score\n",
    "\n",
    "\n",
    "P_inst_only, R_inst_only, F1_inst_only = score(df['gt_answer'].tolist(), df['only_inst_model_answer'].tolist(), lang=\"en\", verbose=True)\n",
    "P_rag, R_rag, F1_rag = score(df['gt_answer'].tolist(), df['rag_based_model_answer'].tolist(), lang=\"en\", verbose=True)\n",
    "\n",
    "print(f\"Mean Semantic Similarity\\nInst-Only: {F1_inst_only[0]}\\nRAG-Based: {F1_rag[0]}\")"
   ]
  }
 ],
 "metadata": {
  "kernelspec": {
   "display_name": "pytorch",
   "language": "python",
   "name": "python3"
  },
  "language_info": {
   "codemirror_mode": {
    "name": "ipython",
    "version": 3
   },
   "file_extension": ".py",
   "mimetype": "text/x-python",
   "name": "python",
   "nbconvert_exporter": "python",
   "pygments_lexer": "ipython3",
   "version": "3.8.19"
  }
 },
 "nbformat": 4,
 "nbformat_minor": 5
}
